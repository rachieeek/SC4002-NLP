{
 "cells": [
  {
   "cell_type": "markdown",
   "id": "8bec801a",
   "metadata": {},
   "source": [
    "Dev notes: I directly installed the model en_core_web_sm 3.7.1 via 'uv add'."
   ]
  },
  {
   "cell_type": "code",
   "execution_count": 1,
   "id": "552a94de",
   "metadata": {},
   "outputs": [
    {
     "name": "stdout",
     "output_type": "stream",
     "text": [
      "downloading train_5500.label\n"
     ]
    },
    {
     "name": "stderr",
     "output_type": "stream",
     "text": [
      "train_5500.label: 100%|██████████| 336k/336k [00:01<00:00, 313kB/s]  \n"
     ]
    },
    {
     "name": "stdout",
     "output_type": "stream",
     "text": [
      "downloading TREC_10.label\n"
     ]
    },
    {
     "name": "stderr",
     "output_type": "stream",
     "text": [
      "TREC_10.label: 100%|██████████| 23.4k/23.4k [00:00<00:00, 90.2kB/s]\n"
     ]
    }
   ],
   "source": [
    "from torchtext import data, datasets\n",
    "import torch\n",
    " # For tokenization\n",
    "TEXT = data.Field(tokenize='spacy', tokenizer_language='en_core_web_sm',include_lengths = True)\n",
    "# For multi - class classification labels\n",
    "LABEL = data.LabelField()\n",
    "# Load the TREC dataset\n",
    "train_data , test_data = datasets.TREC.splits( TEXT, LABEL, fine_grained = False)"
   ]
  },
  {
   "cell_type": "code",
   "execution_count": 2,
   "id": "ebf6e1fd",
   "metadata": {},
   "outputs": [
    {
     "name": "stdout",
     "output_type": "stream",
     "text": [
      "{'text': ['How', 'did', 'serfdom', 'develop', 'in', 'and', 'then', 'leave', 'Russia', '?'], 'label': 'DESC'}\n"
     ]
    }
   ],
   "source": [
    "print(vars(train_data.examples[0]))"
   ]
  },
  {
   "cell_type": "code",
   "execution_count": null,
   "id": "dd14100b",
   "metadata": {},
   "outputs": [],
   "source": []
  }
 ],
 "metadata": {
  "kernelspec": {
   "display_name": "SC4002-NLP",
   "language": "python",
   "name": "python3"
  },
  "language_info": {
   "codemirror_mode": {
    "name": "ipython",
    "version": 3
   },
   "file_extension": ".py",
   "mimetype": "text/x-python",
   "name": "python",
   "nbconvert_exporter": "python",
   "pygments_lexer": "ipython3",
   "version": "3.12.9"
  }
 },
 "nbformat": 4,
 "nbformat_minor": 5
}
