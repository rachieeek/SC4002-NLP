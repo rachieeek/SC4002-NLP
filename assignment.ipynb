{
 "cells": [
  {
   "cell_type": "markdown",
   "id": "8bec801a",
   "metadata": {},
   "source": [
    "Dev notes: I directly installed the model en_core_web_sm 3.7.1 via 'uv add'."
   ]
  },
  {
   "cell_type": "code",
   "execution_count": 14,
   "id": "552a94de",
   "metadata": {},
   "outputs": [],
   "source": [
    "from torchtext import data, datasets\n",
    "import torch\n",
    "import spacy\n",
    "import random\n",
    "import numpy as np\n",
    "\n",
    "def set_seed(seed = 0):\n",
    "    random.seed(seed)\n",
    "    torch.manual_seed(seed)\n",
    "    np.random.seed(seed)\n",
    "    torch.cuda.manual_seed_all(seed)\n",
    "    torch.backends.cudnn.deterministic = True\n",
    "\n",
    "set_seed(0)"
   ]
  },
  {
   "cell_type": "code",
   "execution_count": 15,
   "id": "27e0fb43",
   "metadata": {},
   "outputs": [
    {
     "name": "stdout",
     "output_type": "stream",
     "text": [
      "Train examples: 4362\n",
      "Validation examples: 1090\n"
     ]
    }
   ],
   "source": [
    "# Load SpaCy\n",
    "nlp = spacy.load(\"en_core_web_sm\")\n",
    "\n",
    " # For tokenization\n",
    "TEXT = data.Field(tokenize='spacy', tokenizer_language='en_core_web_sm',include_lengths = True, pad_token='<pad>')\n",
    "# For multi - class classification labels\n",
    "LABEL = data.LabelField()\n",
    "# Load the TREC dataset\n",
    "train_data , test_data = datasets.TREC.splits(TEXT, LABEL, fine_grained = False)\n",
    "# Split train into train/valid (80/20)\n",
    "train_data, valid_data = train_data.split(\n",
    "    split_ratio=0.8,\n",
    "    random_state=random.seed(42)  # <-- use random.seed here\n",
    ")\n",
    "\n",
    "print(f\"Train examples: {len(train_data)}\")\n",
    "print(f\"Validation examples: {len(valid_data)}\")"
   ]
  },
  {
   "cell_type": "code",
   "execution_count": 16,
   "id": "ebf6e1fd",
   "metadata": {},
   "outputs": [
    {
     "name": "stdout",
     "output_type": "stream",
     "text": [
      "{'text': ['What', 'is', 'the', 'most', 'famous', 'German', 'word', 'in', 'the', 'English', 'language', '?'], 'label': 'ENTY'}\n"
     ]
    }
   ],
   "source": [
    "print(vars(train_data.examples[0]))"
   ]
  },
  {
   "cell_type": "markdown",
   "id": "2469e348",
   "metadata": {},
   "source": [
    "Let's use Glove model for word embeddings.     \n",
    "(Start with GloVe 6B.100d or 6B.300d as it provides a good balance between coverage and performance for TREC's question classification task. If results are underwhelming, experiment with word2vec Google News vectors as an alternative, but empirical results in the literature suggest GloVe performs comparably or slightly better on this specific dataset.)"
   ]
  },
  {
   "cell_type": "code",
   "execution_count": 17,
   "id": "ef350631",
   "metadata": {},
   "outputs": [],
   "source": [
    "from torchtext.vocab import GloVe, Vectors\n",
    "\n",
    "# Option 1: Use built-in GloVe (torchtext will download automatically)\n",
    "TEXT.build_vocab(train_data, vectors=GloVe(name='6B', dim=100))"
   ]
  },
  {
   "cell_type": "code",
   "execution_count": 18,
   "id": "b03cc369",
   "metadata": {},
   "outputs": [],
   "source": [
    "LABEL.build_vocab(train_data)"
   ]
  },
  {
   "cell_type": "markdown",
   "id": "edbc6243",
   "metadata": {},
   "source": [
    "# Qn 1: Word Embeddings\n",
    "a) What is the size of the vocabulary formed from your training data according to your tokenization method?"
   ]
  },
  {
   "cell_type": "code",
   "execution_count": 19,
   "id": "dd14100b",
   "metadata": {},
   "outputs": [
    {
     "name": "stdout",
     "output_type": "stream",
     "text": [
      "Vocabulary size: 8093\n",
      "# of Labels:  6\n"
     ]
    }
   ],
   "source": [
    "# Get vocabulary size\n",
    "vocab_size = len(TEXT.vocab)\n",
    "print(f\"Vocabulary size: {vocab_size}\")\n",
    "print(\"# of Labels: \", len(LABEL.vocab))  # number of distinct labels (topics)"
   ]
  },
  {
   "cell_type": "markdown",
   "id": "79928481",
   "metadata": {},
   "source": [
    "b) We use OOV (out-of-vocabulary) to refer to those words appeared in the training data but\n",
    "not in the Word2vec (or Glove) dictionary. How many OOV words exist in your training data?\n",
    "What is the number of OOV words for each topic category?"
   ]
  },
  {
   "cell_type": "code",
   "execution_count": 20,
   "id": "33ab0e50",
   "metadata": {},
   "outputs": [
    {
     "name": "stdout",
     "output_type": "stream",
     "text": [
      "Total count of all OOV word occurrences: 202\n",
      "Total number of OOV words in training data: 190\n",
      "Number of OOV words per topic category:\n",
      "Topic DESC: 68 unique OOV words\n",
      "Total occurrence of OOV words:  69\n",
      "--------------------------------------------------\n",
      "Topic ENTY: 47 unique OOV words\n",
      "Total occurrence of OOV words:  52\n",
      "--------------------------------------------------\n",
      "Topic HUM: 39 unique OOV words\n",
      "Total occurrence of OOV words:  40\n",
      "--------------------------------------------------\n",
      "Topic ABBR: 4 unique OOV words\n",
      "Total occurrence of OOV words:  4\n",
      "--------------------------------------------------\n",
      "Topic NUM: 21 unique OOV words\n",
      "Total occurrence of OOV words:  21\n",
      "--------------------------------------------------\n",
      "Topic LOC: 15 unique OOV words\n",
      "Total occurrence of OOV words:  16\n",
      "--------------------------------------------------\n"
     ]
    }
   ],
   "source": [
    "import torchtext\n",
    "from collections import defaultdict, Counter\n",
    "# Get only the GloVe vocab (words with pretrained vectors)\n",
    "glove_vocab = set(torchtext.vocab.GloVe(name='6B', dim=100).stoi.keys())\n",
    "\n",
    "oov_words_by_topic = defaultdict(Counter)\n",
    "\n",
    "for example in train_data.examples:\n",
    "    label = example.label\n",
    "    tokens = example.text  # Already tokenized as list of tokens by spacy\n",
    "    for token in tokens:\n",
    "        # Lowercase token to match GloVe casing\n",
    "        token_lower = token.lower()\n",
    "        if token_lower not in glove_vocab:\n",
    "            oov_words_by_topic[label][token_lower] += 1\n",
    "\n",
    "total_oov_words = set()\n",
    "for counter in oov_words_by_topic.values():\n",
    "    total_oov_words.update(counter.keys())\n",
    "\n",
    "total_count = sum(\n",
    "    count\n",
    "    for counter in oov_words_by_topic.values()\n",
    "    for count in counter.values()\n",
    ")\n",
    "print(f\"Total count of all OOV word occurrences: {total_count}\")\n",
    "print(f\"Total number of OOV words in training data: {len(total_oov_words)}\")\n",
    "print(\"Number of OOV words per topic category:\")\n",
    "\n",
    "for topic, counter in oov_words_by_topic.items():\n",
    "    print(f\"Topic {topic}: {len(counter)} unique OOV words\")\n",
    "    print(\"Total occurrence of OOV words: \", sum(counter.values()))\n",
    "    print(\"-\"*50)\n"
   ]
  },
  {
   "cell_type": "markdown",
   "id": "40ee5733",
   "metadata": {},
   "source": [
    "(c) The existence of the OOV words is one of the well-known limitations of Word2vec (or Glove).\n",
    "Without using any transformer-based language models (e.g., BERT, GPT, T5), what do you\n",
    "think is the best strategy to mitigate such limitation? Implement your solution in your source\n",
    "code. Show the corresponding code snippet"
   ]
  },
  {
   "cell_type": "markdown",
   "id": "0ccf93d4",
   "metadata": {},
   "source": [
    "One way to mitigate the problem of OOV words is to replace them with  \\<unk\\>."
   ]
  },
  {
   "cell_type": "code",
   "execution_count": 21,
   "id": "c905876e",
   "metadata": {},
   "outputs": [],
   "source": [
    "def replace_oov_with_unk(tokens, glove_vocab):\n",
    "    return [token if token.lower() in glove_vocab else '<unk>' for token in tokens]\n",
    "\n",
    "for example in train_data.examples:\n",
    "    tokens = example.text\n",
    "    example.text = replace_oov_with_unk(tokens, glove_vocab)\n"
   ]
  },
  {
   "cell_type": "markdown",
   "id": "506867f4",
   "metadata": {},
   "source": [
    "Double check that the number of \\<unk\\> replaced the same number of OOV words."
   ]
  },
  {
   "cell_type": "code",
   "execution_count": 22,
   "id": "c7aeb5c9",
   "metadata": {},
   "outputs": [
    {
     "data": {
      "text/plain": [
       "202"
      ]
     },
     "execution_count": 22,
     "metadata": {},
     "output_type": "execute_result"
    }
   ],
   "source": [
    "unk_count = 0\n",
    "for example in train_data.examples:\n",
    "    label = example.label\n",
    "    tokens = example.text\n",
    "    for token in tokens:\n",
    "        # Lowercase token to match GloVe casing\n",
    "        token_lower = token.lower()\n",
    "        if token_lower == \"<unk>\":\n",
    "            unk_count += 1\n",
    "unk_count"
   ]
  },
  {
   "cell_type": "markdown",
   "id": "0d83c3e8",
   "metadata": {},
   "source": [
    "d) Select the 20 most frequent words from each topic category in the training set (removing\n",
    "stopwords if necessary). Retrieve their pretrained embeddings (from Word2Vec or GloVe).\n",
    "Project these embeddings into 2D space (using e.g., t-SNE or Principal Component Analysis).\n",
    "Plot the points in a scatter plot, color-coded by their topic category. Attach your plot here.\n",
    "Analyze your findings"
   ]
  },
  {
   "cell_type": "code",
   "execution_count": 23,
   "id": "e2a9f322",
   "metadata": {},
   "outputs": [
    {
     "name": "stderr",
     "output_type": "stream",
     "text": [
      "[nltk_data] Downloading package stopwords to\n",
      "[nltk_data]     C:\\Users\\celes\\AppData\\Roaming\\nltk_data...\n",
      "[nltk_data]   Unzipping corpora\\stopwords.zip.\n"
     ]
    },
    {
     "data": {
      "image/png": "[encoded data removed]",
      "text/plain": [
       "<Figure size 1200x800 with 1 Axes>"
      ]
     },
     "metadata": {},
     "output_type": "display_data"
    }
   ],
   "source": [
    "import matplotlib.pyplot as plt\n",
    "from sklearn.manifold import TSNE\n",
    "from collections import Counter\n",
    "import numpy as np\n",
    "from nltk.corpus import stopwords\n",
    "import nltk\n",
    "import torchtext\n",
    "\n",
    "# Download stopwords if needed\n",
    "nltk.download('stopwords')\n",
    "stop_words = set(stopwords.words('english'))\n",
    "\n",
    "# Collect tokens by topic, remove stopwords, non-alpha tokens\n",
    "tokens_by_topic = defaultdict(list)\n",
    "for example in train_data.examples:\n",
    "    label = example.label\n",
    "    tokens = example.text\n",
    "    filtered_tokens = [t.lower() for t in tokens if t.isalpha() and t.lower() not in stop_words]\n",
    "    tokens_by_topic[label].extend(filtered_tokens)\n",
    "\n",
    "# Select top 20 frequent words by topic\n",
    "top_words_by_topic = {}\n",
    "for topic, tokens in tokens_by_topic.items():\n",
    "    counter = Counter(tokens)\n",
    "    top_words_by_topic[topic] = [w for w, _ in counter.most_common(20)]\n",
    "\n",
    "# Retrieve pretrained embeddings for these words\n",
    "vectors = TEXT.vocab.vectors\n",
    "vocab_stoi = TEXT.vocab.stoi\n",
    "\n",
    "word_vectors = []\n",
    "labels_for_words = []\n",
    "words_flat = []\n",
    "\n",
    "for topic, words in top_words_by_topic.items():\n",
    "    for word in words:\n",
    "        idx = vocab_stoi.get(word, -1)\n",
    "        if idx >= 0:\n",
    "            vec = vectors[idx].numpy()\n",
    "            word_vectors.append(vec)\n",
    "            labels_for_words.append(topic)\n",
    "            words_flat.append(word)\n",
    "\n",
    "word_vectors = np.array(word_vectors)\n",
    "\n",
    "# t-SNE projection to 2D\n",
    "tsne = TSNE(n_components=2, random_state=42)\n",
    "embeddings_2d = tsne.fit_transform(word_vectors)\n",
    "\n",
    "# Plot scatter plot color-coded by topics\n",
    "plt.figure(figsize=(12, 8))\n",
    "colors = plt.cm.tab10.colors\n",
    "unique_topics = sorted(top_words_by_topic.keys())\n",
    "color_dict = {topic: colors[i % 10] for i, topic in enumerate(unique_topics)}\n",
    "\n",
    "for topic in unique_topics:\n",
    "    indices = [i for i, t in enumerate(labels_for_words) if t == topic]\n",
    "    plt.scatter(embeddings_2d[indices, 0], embeddings_2d[indices, 1],\n",
    "                c=[color_dict[topic]], label=topic)\n",
    "\n",
    "for i, word in enumerate(words_flat):\n",
    "    plt.annotate(word, (embeddings_2d[i, 0], embeddings_2d[i, 1]), fontsize=8)\n",
    "\n",
    "plt.legend(title='Topic Category')\n",
    "plt.title('t-SNE projection of top 20 frequent words by topic in TREC training set')\n",
    "plt.show()"
   ]
  },
  {
   "cell_type": "markdown",
   "id": "4dd4ac86",
   "metadata": {},
   "source": [
    "# Analysis\n",
    "Distinct Topic Clusters: Some topic categories (like “LOC” for locations and “HUM” for human/person entities) show partial clustering, indicating that frequent words in these topics are semantically related in the embedding space.\n",
    "\n",
    "Overlap Between Topics: There is overlap between certain categories, especially between “NUM” (numerical entities), “DESC” (descriptive), and “ENTY” (entities), revealing that these categories share common or semantically similar vocabularies (e.g., “number,” “year,” “name”).\n",
    "\n",
    "Topic-specific Outliers: Certain words such as “baseball” (NUM), “capital” (LOC), “actor” (HUM) are positioned toward the periphery, suggesting that they have more unique, topic-centric semantic content compared to other frequent words.\n",
    "\n",
    "Embedding Quality: The visualization demonstrates that GloVe embeddings capture topical and semantic relationships to a large extent; words with similar meanings or roles often emerge closer together regardless of label.\n",
    "\n",
    "Ambiguity & Polysemy: Some words appear in the vicinity of different clusters or overlap areas (e.g., “mean” in DESC and NUM, “movie” in HUM and ENTY), reflecting ambiguity or multi-topic relevance.\n",
    "\n",
    "Vocabulary Sharing Across Topics: Frequent generic words (“name,” “meaning,” “state,” “form”) are distributed among various topics, supporting the linguistically expected overlap among question categories.\n",
    "\n",
    "Dimensionality Reduction Artifacts: t-SNE is nonlinear and can distort true distances, so while relative local clusters are meaningful, global distances should not be overinterpreted.\n",
    "\n",
    "Label Noise: Some “outliers” may be artifacts of labeling or low sample counts; actual use in downstream classification should consider this."
   ]
  },
  {
   "cell_type": "markdown",
   "id": "149e2a5f",
   "metadata": {},
   "source": [
    "## Part 2"
   ]
  },
  {
   "cell_type": "code",
   "execution_count": 47,
   "id": "203338f6",
   "metadata": {},
   "outputs": [],
   "source": [
    "from torch.utils.data import Dataset, DataLoader\n",
    "from torch.nn.utils.rnn import pad_sequence\n",
    "from torch.nn.utils import clip_grad_norm_\n",
    "import torch.nn as nn\n",
    "from itertools import product"
   ]
  },
  {
   "cell_type": "code",
   "execution_count": 40,
   "id": "25d4b7fc",
   "metadata": {},
   "outputs": [],
   "source": [
    "class SentenceDataset(Dataset):\n",
    "    def __init__(self, text, label, vocab):\n",
    "        self.text = text\n",
    "        self.label = label\n",
    "        self.vocab = vocab\n",
    "\n",
    "    def __len__(self):\n",
    "        return len(self.label)\n",
    "    \n",
    "    def __getitem__(self, idx):\n",
    "        tokens = self.text[idx].split()\n",
    "        label = self.label[idx]\n",
    "        indices = [self.vocab[token] if token in self.vocab else self.vocab['<unk>'] for token in tokens]\n",
    "\n",
    "        return torch.tensor(indices, dtype=torch.long), torch.tensor(label, dtype=torch.long)\n",
    "\n",
    "def collate_fn(batch):\n",
    "    texts, labels = zip(*batch)\n",
    "    texts_padded = pad_sequence(texts, batch_first=True, padding_value=TEXT.vocab.stoi['<pad>'])\n",
    "    labels = torch.stack(labels)\n",
    "    return texts_padded, labels\n"
   ]
  },
  {
   "cell_type": "code",
   "execution_count": null,
   "id": "023d3065",
   "metadata": {},
   "outputs": [
    {
     "name": "stdout",
     "output_type": "stream",
     "text": [
      "4362\n",
      "4362\n"
     ]
    }
   ],
   "source": [
    "train_texts = [\" \".join(example.text) for example in train_data.examples]\n",
    "train_labels = [LABEL.vocab.stoi[example.label] for example in train_data.examples]\n",
    "\n",
    "valid_texts = [\" \".join(example.text) for example in valid_data.examples]\n",
    "valid_labels = [LABEL.vocab.stoi[example.label] for example in valid_data.examples]\n",
    "\n",
    "test_texts = [\" \".join(example.text) for example in test_data.examples]\n",
    "test_labels = [LABEL.vocab.stoi[example.label] for example in test_data.examples]\n",
    "\n",
    "train_dataset = SentenceDataset(train_texts, train_labels, TEXT.vocab.stoi)\n",
    "valid_dataset = SentenceDataset(valid_texts, valid_labels, TEXT.vocab.stoi)\n",
    "test_dataset = SentenceDataset(test_texts, test_labels, TEXT.vocab.stoi)\n",
    "\n",
    "# TO REMOVE sanity check\n",
    "print(len(train_dataset))\n",
    "print(len(train_data))"
   ]
  },
  {
   "cell_type": "code",
   "execution_count": 48,
   "id": "2208c306",
   "metadata": {},
   "outputs": [],
   "source": [
    "class ClassifierRNN(nn.Module):\n",
    "    def __init__(self, embedding_matrix, hidden_dim, dropout=0.0):\n",
    "        super(ClassifierRNN, self).__init__()\n",
    "        num_embeddings, embedding_dim = embedding_matrix.shape\n",
    "        self.embedding = nn.Embedding.from_pretrained(torch.tensor(embedding_matrix, dtype=torch.float), freeze=False)\n",
    "        self.rnn = nn.RNN(embedding_dim, hidden_dim, batch_first=True)\n",
    "        self.dropout = nn.Dropout(dropout)\n",
    "        self.fc = nn.Linear(hidden_dim, 6) # 6 possible labels\n",
    "\n",
    "    def forward(self, x):\n",
    "        embedded = self.embedding(x)\n",
    "        output, hidden = self.rnn(embedded)\n",
    "        hidden = self.dropout(hidden[-1])\n",
    "        out = self.fc(hidden)\n",
    "        return out"
   ]
  },
  {
   "cell_type": "code",
   "execution_count": 54,
   "id": "9fcd84b8",
   "metadata": {},
   "outputs": [],
   "source": [
    "def train_loop(model, loader, optimizer, criterion, grad_clip=False, max_norm=1.0):\n",
    "    model.train()\n",
    "    total_loss, total_correct = 0, 0\n",
    "    for texts, labels in loader:\n",
    "        optimizer.zero_grad()\n",
    "        outputs = model(texts)\n",
    "        loss = criterion(outputs, labels)\n",
    "        loss.backward()\n",
    "\n",
    "        if grad_clip:\n",
    "            print(\"Clipping\") # TO REMOVE sanity check that not clipping when not needed\n",
    "            clip_grad_norm_(model.parameters(), max_norm=max_norm)\n",
    "\n",
    "        optimizer.step()\n",
    "        total_loss += loss.item()\n",
    "        total_correct += (outputs.argmax(1) == labels).sum().item()\n",
    "\n",
    "    avg_loss = total_loss / len(loader)\n",
    "    avg_correct = total_correct / len(loader.dataset)\n",
    "    return avg_loss, avg_correct\n",
    "\n",
    "def eval_loop(model, loader, criterion):\n",
    "    model.eval()\n",
    "    total_loss, total_correct = 0, 0\n",
    "\n",
    "    with torch.no_grad():\n",
    "        for texts, labels in loader:\n",
    "            outputs = model(texts)\n",
    "            loss = criterion(outputs, labels)\n",
    "            total_loss += loss.item()\n",
    "            total_correct += (outputs.argmax(1) == labels).sum().item()\n",
    "\n",
    "    avg_loss = total_loss / len(loader)\n",
    "    avg_correct = total_correct / len(loader.dataset)\n",
    "    return avg_loss, avg_correct\n",
    "    \n",
    "def test_loop(model, loader):\n",
    "    model.eval()\n",
    "    total_correct = 0\n",
    "\n",
    "    with torch.no_grad():\n",
    "        for texts, labels in loader:\n",
    "            outputs = model(texts)\n",
    "            total_correct += (outputs.argmax(1) == labels).sum().item()\n",
    "    \n",
    "    acc = total_correct / len(loader.dataset)\n",
    "    return acc\n",
    "\n",
    "class EarlyStopper:\n",
    "    def __init__(self, patience=3, min_delta=0):\n",
    "        self.patience = patience\n",
    "        self.min_delta = min_delta\n",
    "        self.counter = 0\n",
    "        self.min_validation_loss = np.inf\n",
    "\n",
    "    def early_stop(self, validation_loss):\n",
    "        if validation_loss < self.min_validation_loss:\n",
    "            self.min_validation_loss = validation_loss\n",
    "            self.counter = 0\n",
    "        elif validation_loss > (self.min_validation_loss + self.min_delta):\n",
    "            self.counter += 1\n",
    "            if self.counter >= self.patience:\n",
    "                return True\n",
    "        return False"
   ]
  },
  {
   "cell_type": "code",
   "execution_count": null,
   "id": "0ea7a81f",
   "metadata": {},
   "outputs": [],
   "source": [
    "def training_step(model, train_loader, valid_loader, optimizer, criterion, num_epochs, grad_clip=False, max_norm=1.0):\n",
    "    train_losses, train_accuracies = [], []\n",
    "    valid_losses, valid_accuracies = [], []\n",
    "    early_stopper = EarlyStopper(patience=5, min_delta=0)\n",
    "\n",
    "    for epoch in range(num_epochs):\n",
    "        train_loss, train_acc = train_loop(model, train_loader, optimizer, criterion, grad_clip=False, max_norm=1.0)\n",
    "        valid_loss, valid_acc = eval_loop(model, valid_loader, criterion)\n",
    "\n",
    "        train_losses.append(train_loss)\n",
    "        train_accuracies.append(train_acc)\n",
    "        valid_losses.append(valid_loss)\n",
    "        valid_accuracies.append(valid_acc)\n",
    "\n",
    "        print(f\"Epoch {epoch+1}:\")\n",
    "        print(f\"Train loss: {train_loss:.4f}, Train acc: {train_acc:.4f}\")\n",
    "        print(f\"Valid loss: {valid_loss:.4f}, Valid acc: {valid_acc:.4f}\")\n",
    "\n",
    "        if early_stopper.early_stop(valid_loss):\n",
    "            print(\"Early Stopping Triggered! No Improvements to Test Loss within Patience.\")\n",
    "            break\n",
    "\n",
    "    return train_losses, train_accuracies, valid_losses, valid_accuracies"
   ]
  },
  {
   "cell_type": "code",
   "execution_count": 51,
   "id": "dd8b69ed",
   "metadata": {},
   "outputs": [],
   "source": [
    "def find_optimal_hyperparams(param_grid, embedding_matrix):\n",
    "    best_valid_acc = 0\n",
    "    best_hyperparams = {}\n",
    "    results = []\n",
    "\n",
    "    combinations_list = list(product(*param_grid.values()))\n",
    "\n",
    "    for params in combinations_list:\n",
    "        no_epoch, lr, optimizer, batch_size, hidden_dim = params\n",
    "        hyperparams = dict(zip(param_grid.keys(), params))\n",
    "        print(f\"Training with hyperparameters: {hyperparams}\")\n",
    "\n",
    "        model = ClassifierRNN(embedding_matrix, hidden_dim)\n",
    "        criterion = nn.CrossEntropyLoss()\n",
    "\n",
    "        train_loader = DataLoader(train_dataset, batch_size=batch_size, shuffle=True, collate_fn=collate_fn)\n",
    "        valid_loader = DataLoader(valid_dataset, batch_size=batch_size, shuffle=False, collate_fn=collate_fn)\n",
    "\n",
    "        optimizer = optimizer(model.parameters(), lr=lr)\n",
    "\n",
    "        _, _, _, valid_accuracies = training_step(model, train_loader, valid_loader, optimizer, criterion, no_epoch)\n",
    "\n",
    "        max_acc = max(valid_accuracies)\n",
    "\n",
    "        results.append({\n",
    "            'no_epoch': no_epoch,\n",
    "            'lr': lr,\n",
    "            'optimizer': optimizer.__name__,\n",
    "            'batch_size': batch_size,\n",
    "            'hidden_dim': hidden_dim,\n",
    "            'best_valid_acc': max(valid_accuracies),\n",
    "        })\n",
    "\n",
    "        if max_acc > best_valid_acc:\n",
    "            best_valid_acc = max_acc\n",
    "            best_hyperparams = {\n",
    "                'no_epoch': no_epoch,\n",
    "                'lr': lr,\n",
    "                'optimizer': optimizer,\n",
    "                'batch_size': batch_size,\n",
    "                'hidden_dim': hidden_dim,\n",
    "            }\n",
    "\n",
    "    print(\"Best Hyperparamters: \", best_hyperparams)\n",
    "    print(\"Best validation accuracy: \", best_valid_acc)\n",
    "\n",
    "    return results, best_hyperparams\n"
   ]
  },
  {
   "cell_type": "code",
   "execution_count": 55,
   "id": "5c5141d8",
   "metadata": {},
   "outputs": [
    {
     "name": "stdout",
     "output_type": "stream",
     "text": [
      "Training with hyperparameters: {'no_epoch': 50, 'lr': 0.0001, 'optimizer': <class 'torch.optim.sgd.SGD'>, 'batch_size': 32, 'hidden_dim': 64}\n",
      "Epoch 1:\n",
      "Train loss: 1.8068, Train acc: 0.0530\n",
      "Valid loss: 1.8055, Valid acc: 0.0734\n",
      "Epoch 2:\n",
      "Train loss: 1.8053, Train acc: 0.1490\n",
      "Valid loss: 1.8037, Valid acc: 0.1578\n",
      "Epoch 3:\n",
      "Train loss: 1.8034, Train acc: 0.1740\n",
      "Valid loss: 1.8020, Valid acc: 0.1587\n",
      "Epoch 4:\n",
      "Train loss: 1.8035, Train acc: 0.1738\n",
      "Valid loss: 1.8002, Valid acc: 0.1587\n",
      "Epoch 5:\n",
      "Train loss: 1.8001, Train acc: 0.1772\n",
      "Valid loss: 1.7985, Valid acc: 0.1651\n",
      "Epoch 6:\n",
      "Train loss: 1.7987, Train acc: 0.1788\n",
      "Valid loss: 1.7968, Valid acc: 0.1651\n",
      "Epoch 7:\n",
      "Train loss: 1.7970, Train acc: 0.1761\n",
      "Valid loss: 1.7952, Valid acc: 0.1661\n",
      "Epoch 8:\n",
      "Train loss: 1.7946, Train acc: 0.1829\n",
      "Valid loss: 1.7935, Valid acc: 0.1661\n",
      "Epoch 9:\n",
      "Train loss: 1.7932, Train acc: 0.1813\n",
      "Valid loss: 1.7919, Valid acc: 0.1661\n",
      "Epoch 10:\n",
      "Train loss: 1.7909, Train acc: 0.1910\n",
      "Valid loss: 1.7903, Valid acc: 0.2294\n",
      "Epoch 11:\n",
      "Train loss: 1.7905, Train acc: 0.2153\n",
      "Valid loss: 1.7887, Valid acc: 0.2312\n",
      "Epoch 12:\n",
      "Train loss: 1.7886, Train acc: 0.2205\n",
      "Valid loss: 1.7871, Valid acc: 0.2358\n",
      "Epoch 13:\n",
      "Train loss: 1.7873, Train acc: 0.2185\n",
      "Valid loss: 1.7856, Valid acc: 0.2376\n",
      "Epoch 14:\n",
      "Train loss: 1.7865, Train acc: 0.2153\n",
      "Valid loss: 1.7840, Valid acc: 0.2385\n"
     ]
    },
    {
     "ename": "KeyboardInterrupt",
     "evalue": "",
     "output_type": "error",
     "traceback": [
      "\u001b[31m---------------------------------------------------------------------------\u001b[39m",
      "\u001b[31mKeyboardInterrupt\u001b[39m                         Traceback (most recent call last)",
      "\u001b[36mCell\u001b[39m\u001b[36m \u001b[39m\u001b[32mIn[55]\u001b[39m\u001b[32m, line 9\u001b[39m\n\u001b[32m      1\u001b[39m param_grid = {\n\u001b[32m      2\u001b[39m     \u001b[33m'\u001b[39m\u001b[33mno_epoch\u001b[39m\u001b[33m'\u001b[39m: [\u001b[32m50\u001b[39m, \u001b[32m100\u001b[39m, \u001b[32m200\u001b[39m],\n\u001b[32m      3\u001b[39m     \u001b[33m'\u001b[39m\u001b[33mlr\u001b[39m\u001b[33m'\u001b[39m: [\u001b[32m0.0001\u001b[39m, \u001b[32m0.005\u001b[39m, \u001b[32m0.001\u001b[39m, \u001b[32m0.005\u001b[39m],\n\u001b[32m   (...)\u001b[39m\u001b[32m      6\u001b[39m     \u001b[33m'\u001b[39m\u001b[33mhidden_dim\u001b[39m\u001b[33m'\u001b[39m: [\u001b[32m64\u001b[39m, \u001b[32m128\u001b[39m, \u001b[32m256\u001b[39m]\n\u001b[32m      7\u001b[39m }\n\u001b[32m----> \u001b[39m\u001b[32m9\u001b[39m results, best_hyperparams = \u001b[43mfind_optimal_hyperparams\u001b[49m\u001b[43m(\u001b[49m\u001b[43mparam_grid\u001b[49m\u001b[43m,\u001b[49m\u001b[43m \u001b[49m\u001b[43mTEXT\u001b[49m\u001b[43m.\u001b[49m\u001b[43mvocab\u001b[49m\u001b[43m.\u001b[49m\u001b[43mvectors\u001b[49m\u001b[43m.\u001b[49m\u001b[43mnumpy\u001b[49m\u001b[43m(\u001b[49m\u001b[43m)\u001b[49m\u001b[43m)\u001b[49m\n",
      "\u001b[36mCell\u001b[39m\u001b[36m \u001b[39m\u001b[32mIn[51]\u001b[39m\u001b[32m, line 21\u001b[39m, in \u001b[36mfind_optimal_hyperparams\u001b[39m\u001b[34m(param_grid, embedding_matrix)\u001b[39m\n\u001b[32m     17\u001b[39m valid_loader = DataLoader(valid_dataset, batch_size=batch_size, shuffle=\u001b[38;5;28;01mFalse\u001b[39;00m, collate_fn=collate_fn)\n\u001b[32m     19\u001b[39m optimizer = optimizer(model.parameters(), lr=lr)\n\u001b[32m---> \u001b[39m\u001b[32m21\u001b[39m _, _, _, valid_accuracies = \u001b[43mtraining_step\u001b[49m\u001b[43m(\u001b[49m\u001b[43mmodel\u001b[49m\u001b[43m,\u001b[49m\u001b[43m \u001b[49m\u001b[43mtrain_loader\u001b[49m\u001b[43m,\u001b[49m\u001b[43m \u001b[49m\u001b[43mvalid_loader\u001b[49m\u001b[43m,\u001b[49m\u001b[43m \u001b[49m\u001b[43moptimizer\u001b[49m\u001b[43m,\u001b[49m\u001b[43m \u001b[49m\u001b[43mcriterion\u001b[49m\u001b[43m,\u001b[49m\u001b[43m \u001b[49m\u001b[43mno_epoch\u001b[49m\u001b[43m)\u001b[49m\n\u001b[32m     23\u001b[39m max_acc = \u001b[38;5;28mmax\u001b[39m(valid_accuracies)\n\u001b[32m     25\u001b[39m results.append({\n\u001b[32m     26\u001b[39m     \u001b[33m'\u001b[39m\u001b[33mno_epoch\u001b[39m\u001b[33m'\u001b[39m: no_epoch,\n\u001b[32m     27\u001b[39m     \u001b[33m'\u001b[39m\u001b[33mlr\u001b[39m\u001b[33m'\u001b[39m: lr,\n\u001b[32m   (...)\u001b[39m\u001b[32m     31\u001b[39m     \u001b[33m'\u001b[39m\u001b[33mbest_valid_acc\u001b[39m\u001b[33m'\u001b[39m: \u001b[38;5;28mmax\u001b[39m(valid_accuracies),\n\u001b[32m     32\u001b[39m })\n",
      "\u001b[36mCell\u001b[39m\u001b[36m \u001b[39m\u001b[32mIn[50]\u001b[39m\u001b[32m, line 7\u001b[39m, in \u001b[36mtraining_step\u001b[39m\u001b[34m(model, train_loader, valid_loader, optimizer, criterion, num_epochs, grad_clip, max_norm)\u001b[39m\n\u001b[32m      4\u001b[39m early_stopper = EarlyStopper(patience=\u001b[32m5\u001b[39m, min_delta=\u001b[32m0\u001b[39m)\n\u001b[32m      6\u001b[39m \u001b[38;5;28;01mfor\u001b[39;00m epoch \u001b[38;5;129;01min\u001b[39;00m \u001b[38;5;28mrange\u001b[39m(num_epochs):\n\u001b[32m----> \u001b[39m\u001b[32m7\u001b[39m     train_loss, train_acc = \u001b[43mtrain_loop\u001b[49m\u001b[43m(\u001b[49m\u001b[43mmodel\u001b[49m\u001b[43m,\u001b[49m\u001b[43m \u001b[49m\u001b[43mtrain_loader\u001b[49m\u001b[43m,\u001b[49m\u001b[43m \u001b[49m\u001b[43moptimizer\u001b[49m\u001b[43m,\u001b[49m\u001b[43m \u001b[49m\u001b[43mcriterion\u001b[49m\u001b[43m,\u001b[49m\u001b[43m \u001b[49m\u001b[43mgrad_clip\u001b[49m\u001b[43m=\u001b[49m\u001b[38;5;28;43;01mFalse\u001b[39;49;00m\u001b[43m,\u001b[49m\u001b[43m \u001b[49m\u001b[43mmax_norm\u001b[49m\u001b[43m=\u001b[49m\u001b[32;43m1.0\u001b[39;49m\u001b[43m)\u001b[49m\n\u001b[32m      8\u001b[39m     valid_loss, valid_acc = eval_loop(model, valid_loader, criterion)\n\u001b[32m     10\u001b[39m     train_losses.append(train_loss)\n",
      "\u001b[36mCell\u001b[39m\u001b[36m \u001b[39m\u001b[32mIn[54]\u001b[39m\u001b[32m, line 6\u001b[39m, in \u001b[36mtrain_loop\u001b[39m\u001b[34m(model, loader, optimizer, criterion, grad_clip, max_norm)\u001b[39m\n\u001b[32m      4\u001b[39m \u001b[38;5;28;01mfor\u001b[39;00m texts, labels \u001b[38;5;129;01min\u001b[39;00m loader:\n\u001b[32m      5\u001b[39m     optimizer.zero_grad()\n\u001b[32m----> \u001b[39m\u001b[32m6\u001b[39m     outputs = \u001b[43mmodel\u001b[49m\u001b[43m(\u001b[49m\u001b[43mtexts\u001b[49m\u001b[43m)\u001b[49m\n\u001b[32m      7\u001b[39m     loss = criterion(outputs, labels)\n\u001b[32m      8\u001b[39m     loss.backward()\n",
      "\u001b[36mFile \u001b[39m\u001b[32mc:\\Users\\celes\\Documents\\GitHub\\SC4002-NLP\\.venv\\Lib\\site-packages\\torch\\nn\\modules\\module.py:1773\u001b[39m, in \u001b[36mModule._wrapped_call_impl\u001b[39m\u001b[34m(self, *args, **kwargs)\u001b[39m\n\u001b[32m   1771\u001b[39m     \u001b[38;5;28;01mreturn\u001b[39;00m \u001b[38;5;28mself\u001b[39m._compiled_call_impl(*args, **kwargs)  \u001b[38;5;66;03m# type: ignore[misc]\u001b[39;00m\n\u001b[32m   1772\u001b[39m \u001b[38;5;28;01melse\u001b[39;00m:\n\u001b[32m-> \u001b[39m\u001b[32m1773\u001b[39m     \u001b[38;5;28;01mreturn\u001b[39;00m \u001b[38;5;28;43mself\u001b[39;49m\u001b[43m.\u001b[49m\u001b[43m_call_impl\u001b[49m\u001b[43m(\u001b[49m\u001b[43m*\u001b[49m\u001b[43margs\u001b[49m\u001b[43m,\u001b[49m\u001b[43m \u001b[49m\u001b[43m*\u001b[49m\u001b[43m*\u001b[49m\u001b[43mkwargs\u001b[49m\u001b[43m)\u001b[49m\n",
      "\u001b[36mFile \u001b[39m\u001b[32mc:\\Users\\celes\\Documents\\GitHub\\SC4002-NLP\\.venv\\Lib\\site-packages\\torch\\nn\\modules\\module.py:1784\u001b[39m, in \u001b[36mModule._call_impl\u001b[39m\u001b[34m(self, *args, **kwargs)\u001b[39m\n\u001b[32m   1779\u001b[39m \u001b[38;5;66;03m# If we don't have any hooks, we want to skip the rest of the logic in\u001b[39;00m\n\u001b[32m   1780\u001b[39m \u001b[38;5;66;03m# this function, and just call forward.\u001b[39;00m\n\u001b[32m   1781\u001b[39m \u001b[38;5;28;01mif\u001b[39;00m \u001b[38;5;129;01mnot\u001b[39;00m (\u001b[38;5;28mself\u001b[39m._backward_hooks \u001b[38;5;129;01mor\u001b[39;00m \u001b[38;5;28mself\u001b[39m._backward_pre_hooks \u001b[38;5;129;01mor\u001b[39;00m \u001b[38;5;28mself\u001b[39m._forward_hooks \u001b[38;5;129;01mor\u001b[39;00m \u001b[38;5;28mself\u001b[39m._forward_pre_hooks\n\u001b[32m   1782\u001b[39m         \u001b[38;5;129;01mor\u001b[39;00m _global_backward_pre_hooks \u001b[38;5;129;01mor\u001b[39;00m _global_backward_hooks\n\u001b[32m   1783\u001b[39m         \u001b[38;5;129;01mor\u001b[39;00m _global_forward_hooks \u001b[38;5;129;01mor\u001b[39;00m _global_forward_pre_hooks):\n\u001b[32m-> \u001b[39m\u001b[32m1784\u001b[39m     \u001b[38;5;28;01mreturn\u001b[39;00m \u001b[43mforward_call\u001b[49m\u001b[43m(\u001b[49m\u001b[43m*\u001b[49m\u001b[43margs\u001b[49m\u001b[43m,\u001b[49m\u001b[43m \u001b[49m\u001b[43m*\u001b[49m\u001b[43m*\u001b[49m\u001b[43mkwargs\u001b[49m\u001b[43m)\u001b[49m\n\u001b[32m   1786\u001b[39m result = \u001b[38;5;28;01mNone\u001b[39;00m\n\u001b[32m   1787\u001b[39m called_always_called_hooks = \u001b[38;5;28mset\u001b[39m()\n",
      "\u001b[36mCell\u001b[39m\u001b[36m \u001b[39m\u001b[32mIn[48]\u001b[39m\u001b[32m, line 14\u001b[39m, in \u001b[36mClassifierRNN.forward\u001b[39m\u001b[34m(self, x)\u001b[39m\n\u001b[32m     12\u001b[39m output, hidden = \u001b[38;5;28mself\u001b[39m.rnn(embedded)\n\u001b[32m     13\u001b[39m hidden = \u001b[38;5;28mself\u001b[39m.dropout(hidden[-\u001b[32m1\u001b[39m])\n\u001b[32m---> \u001b[39m\u001b[32m14\u001b[39m out = \u001b[38;5;28;43mself\u001b[39;49m\u001b[43m.\u001b[49m\u001b[43mfc\u001b[49m\u001b[43m(\u001b[49m\u001b[43mhidden\u001b[49m\u001b[43m)\u001b[49m\n\u001b[32m     15\u001b[39m \u001b[38;5;28;01mreturn\u001b[39;00m out\n",
      "\u001b[36mFile \u001b[39m\u001b[32mc:\\Users\\celes\\Documents\\GitHub\\SC4002-NLP\\.venv\\Lib\\site-packages\\torch\\nn\\modules\\module.py:1773\u001b[39m, in \u001b[36mModule._wrapped_call_impl\u001b[39m\u001b[34m(self, *args, **kwargs)\u001b[39m\n\u001b[32m   1771\u001b[39m     \u001b[38;5;28;01mreturn\u001b[39;00m \u001b[38;5;28mself\u001b[39m._compiled_call_impl(*args, **kwargs)  \u001b[38;5;66;03m# type: ignore[misc]\u001b[39;00m\n\u001b[32m   1772\u001b[39m \u001b[38;5;28;01melse\u001b[39;00m:\n\u001b[32m-> \u001b[39m\u001b[32m1773\u001b[39m     \u001b[38;5;28;01mreturn\u001b[39;00m \u001b[38;5;28;43mself\u001b[39;49m\u001b[43m.\u001b[49m\u001b[43m_call_impl\u001b[49m\u001b[43m(\u001b[49m\u001b[43m*\u001b[49m\u001b[43margs\u001b[49m\u001b[43m,\u001b[49m\u001b[43m \u001b[49m\u001b[43m*\u001b[49m\u001b[43m*\u001b[49m\u001b[43mkwargs\u001b[49m\u001b[43m)\u001b[49m\n",
      "\u001b[36mFile \u001b[39m\u001b[32mc:\\Users\\celes\\Documents\\GitHub\\SC4002-NLP\\.venv\\Lib\\site-packages\\torch\\nn\\modules\\module.py:1784\u001b[39m, in \u001b[36mModule._call_impl\u001b[39m\u001b[34m(self, *args, **kwargs)\u001b[39m\n\u001b[32m   1779\u001b[39m \u001b[38;5;66;03m# If we don't have any hooks, we want to skip the rest of the logic in\u001b[39;00m\n\u001b[32m   1780\u001b[39m \u001b[38;5;66;03m# this function, and just call forward.\u001b[39;00m\n\u001b[32m   1781\u001b[39m \u001b[38;5;28;01mif\u001b[39;00m \u001b[38;5;129;01mnot\u001b[39;00m (\u001b[38;5;28mself\u001b[39m._backward_hooks \u001b[38;5;129;01mor\u001b[39;00m \u001b[38;5;28mself\u001b[39m._backward_pre_hooks \u001b[38;5;129;01mor\u001b[39;00m \u001b[38;5;28mself\u001b[39m._forward_hooks \u001b[38;5;129;01mor\u001b[39;00m \u001b[38;5;28mself\u001b[39m._forward_pre_hooks\n\u001b[32m   1782\u001b[39m         \u001b[38;5;129;01mor\u001b[39;00m _global_backward_pre_hooks \u001b[38;5;129;01mor\u001b[39;00m _global_backward_hooks\n\u001b[32m   1783\u001b[39m         \u001b[38;5;129;01mor\u001b[39;00m _global_forward_hooks \u001b[38;5;129;01mor\u001b[39;00m _global_forward_pre_hooks):\n\u001b[32m-> \u001b[39m\u001b[32m1784\u001b[39m     \u001b[38;5;28;01mreturn\u001b[39;00m \u001b[43mforward_call\u001b[49m\u001b[43m(\u001b[49m\u001b[43m*\u001b[49m\u001b[43margs\u001b[49m\u001b[43m,\u001b[49m\u001b[43m \u001b[49m\u001b[43m*\u001b[49m\u001b[43m*\u001b[49m\u001b[43mkwargs\u001b[49m\u001b[43m)\u001b[49m\n\u001b[32m   1786\u001b[39m result = \u001b[38;5;28;01mNone\u001b[39;00m\n\u001b[32m   1787\u001b[39m called_always_called_hooks = \u001b[38;5;28mset\u001b[39m()\n",
      "\u001b[36mFile \u001b[39m\u001b[32mc:\\Users\\celes\\Documents\\GitHub\\SC4002-NLP\\.venv\\Lib\\site-packages\\torch\\nn\\modules\\linear.py:125\u001b[39m, in \u001b[36mLinear.forward\u001b[39m\u001b[34m(self, input)\u001b[39m\n\u001b[32m    124\u001b[39m \u001b[38;5;28;01mdef\u001b[39;00m\u001b[38;5;250m \u001b[39m\u001b[34mforward\u001b[39m(\u001b[38;5;28mself\u001b[39m, \u001b[38;5;28minput\u001b[39m: Tensor) -> Tensor:\n\u001b[32m--> \u001b[39m\u001b[32m125\u001b[39m     \u001b[38;5;28;01mreturn\u001b[39;00m \u001b[43mF\u001b[49m\u001b[43m.\u001b[49m\u001b[43mlinear\u001b[49m\u001b[43m(\u001b[49m\u001b[38;5;28;43minput\u001b[39;49m\u001b[43m,\u001b[49m\u001b[43m \u001b[49m\u001b[38;5;28;43mself\u001b[39;49m\u001b[43m.\u001b[49m\u001b[43mweight\u001b[49m\u001b[43m,\u001b[49m\u001b[43m \u001b[49m\u001b[38;5;28;43mself\u001b[39;49m\u001b[43m.\u001b[49m\u001b[43mbias\u001b[49m\u001b[43m)\u001b[49m\n",
      "\u001b[31mKeyboardInterrupt\u001b[39m: "
     ]
    }
   ],
   "source": [
    "param_grid = {\n",
    "    'no_epochs': [50, 100, 200],\n",
    "    'lrs': [0.0001, 0.005, 0.001, 0.005],\n",
    "    'optimizers': [torch.optim.SGD, torch.optim.Adagrad, torch.optim.Adam, torch.optim.RMSprop],\n",
    "    'batch_sizes': [32, 64, 128],\n",
    "    'hidden_dims': [64, 128, 256]\n",
    "}\n",
    "\n",
    "results, best_hyperparams = find_optimal_hyperparams(param_grid, TEXT.vocab.vectors.numpy())"
   ]
  },
  {
   "cell_type": "code",
   "execution_count": null,
   "id": "2c1a2dbf",
   "metadata": {},
   "outputs": [],
   "source": []
  },
  {
   "cell_type": "code",
   "execution_count": null,
   "id": "ba361b66",
   "metadata": {},
   "outputs": [],
   "source": []
  },
  {
   "cell_type": "code",
   "execution_count": null,
   "id": "e412dbfc",
   "metadata": {},
   "outputs": [],
   "source": []
  },
  {
   "cell_type": "code",
   "execution_count": null,
   "id": "500d83f7",
   "metadata": {},
   "outputs": [],
   "source": []
  }
 ],
 "metadata": {
  "kernelspec": {
   "display_name": ".venv",
   "language": "python",
   "name": "python3"
  },
  "language_info": {
   "codemirror_mode": {
    "name": "ipython",
    "version": 3
   },
   "file_extension": ".py",
   "mimetype": "text/x-python",
   "name": "python",
   "nbconvert_exporter": "python",
   "pygments_lexer": "ipython3",
   "version": "3.12.12"
  }
 },
 "nbformat": 4,
 "nbformat_minor": 5
}
