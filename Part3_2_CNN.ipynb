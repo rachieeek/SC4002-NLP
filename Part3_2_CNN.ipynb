{
 "cells": [
  {
   "cell_type": "markdown",
   "id": "4faa6f4e",
   "metadata": {},
   "source": [
    "## Setup & Libraries"
   ]
  },
  {
   "cell_type": "code",
   "execution_count": 1,
   "id": "f45968f6",
   "metadata": {},
   "outputs": [],
   "source": [
    "from torchtext import data, datasets\n",
    "import torch\n",
    "import spacy\n",
    "import random\n",
    "import numpy as np\n",
    "\n",
    "def set_seed(seed = 0):\n",
    "    random.seed(seed)\n",
    "    torch.manual_seed(seed)\n",
    "    np.random.seed(seed)\n",
    "    torch.cuda.manual_seed_all(seed)\n",
    "    torch.backends.cudnn.deterministic = True\n",
    "\n",
    "set_seed()\n",
    "\n",
    "from torch.utils.data import Dataset, DataLoader\n",
    "from torch.nn.utils.rnn import pad_sequence\n",
    "from torch.nn.utils import clip_grad_norm_\n",
    "import torch.nn as nn\n",
    "from itertools import product\n",
    "import pandas as pd"
   ]
  },
  {
   "cell_type": "code",
   "execution_count": 2,
   "id": "3995a225",
   "metadata": {},
   "outputs": [
    {
     "name": "stdout",
     "output_type": "stream",
     "text": [
      "Train examples: 4362\n",
      "Validation examples: 1090\n"
     ]
    }
   ],
   "source": [
    "# Load SpaCy\n",
    "nlp = spacy.load(\"en_core_web_sm\")\n",
    "\n",
    " # For tokenization\n",
    "TEXT = data.Field(tokenize='spacy', tokenizer_language='en_core_web_sm',include_lengths = True, pad_token='<pad>')\n",
    "# For multi - class classification labels\n",
    "LABEL = data.LabelField()\n",
    "# Load the TREC dataset\n",
    "train_data , test_data = datasets.TREC.splits(TEXT, LABEL, fine_grained = False)\n",
    "# Split train into train/valid (80/20)\n",
    "train_data, valid_data = train_data.split(\n",
    "    split_ratio=0.8,\n",
    "    random_state=random.seed(42)  # <-- use random.seed here\n",
    ")\n",
    "\n",
    "print(f\"Train examples: {len(train_data)}\")\n",
    "print(f\"Validation examples: {len(valid_data)}\")"
   ]
  },
  {
   "cell_type": "code",
   "execution_count": 3,
   "id": "72c6dea1",
   "metadata": {},
   "outputs": [
    {
     "name": "stdout",
     "output_type": "stream",
     "text": [
      "{'text': ['What', 'is', 'the', 'most', 'famous', 'German', 'word', 'in', 'the', 'English', 'language', '?'], 'label': 'ENTY'}\n"
     ]
    }
   ],
   "source": [
    "print(vars(train_data.examples[0]))"
   ]
  },
  {
   "cell_type": "code",
   "execution_count": 4,
   "id": "9cdc0e63",
   "metadata": {},
   "outputs": [],
   "source": [
    "from torchtext.vocab import GloVe, Vectors\n",
    "\n",
    "# Option 1: Use built-in GloVe (torchtext will download automatically)\n",
    "TEXT.build_vocab(train_data, vectors=GloVe(name='6B', dim=100))"
   ]
  },
  {
   "cell_type": "code",
   "execution_count": 5,
   "id": "c2e76f7d",
   "metadata": {},
   "outputs": [],
   "source": [
    "LABEL.build_vocab(train_data)"
   ]
  },
  {
   "cell_type": "markdown",
   "id": "6b5d9935",
   "metadata": {},
   "source": [
    "## Codes Required from Q1"
   ]
  },
  {
   "cell_type": "markdown",
   "id": "8a1f4235",
   "metadata": {},
   "source": [
    "Vocabulary size: 8093 \\\n",
    "Number of Labels:  6"
   ]
  },
  {
   "cell_type": "code",
   "execution_count": 6,
   "id": "0503df45",
   "metadata": {},
   "outputs": [
    {
     "name": "stdout",
     "output_type": "stream",
     "text": [
      "Total count of all OOV word occurrences: 202\n",
      "Total number of OOV words in training data: 190\n",
      "Number of OOV words per topic category:\n",
      "Topic DESC: 68 unique OOV words\n",
      "Total occurrence of OOV words:  69\n",
      "--------------------------------------------------\n",
      "Topic ENTY: 47 unique OOV words\n",
      "Total occurrence of OOV words:  52\n",
      "--------------------------------------------------\n",
      "Topic HUM: 39 unique OOV words\n",
      "Total occurrence of OOV words:  40\n",
      "--------------------------------------------------\n",
      "Topic ABBR: 4 unique OOV words\n",
      "Total occurrence of OOV words:  4\n",
      "--------------------------------------------------\n",
      "Topic NUM: 21 unique OOV words\n",
      "Total occurrence of OOV words:  21\n",
      "--------------------------------------------------\n",
      "Topic LOC: 15 unique OOV words\n",
      "Total occurrence of OOV words:  16\n",
      "--------------------------------------------------\n"
     ]
    }
   ],
   "source": [
    "import torchtext\n",
    "from collections import defaultdict, Counter\n",
    "# Get only the GloVe vocab (words with pretrained vectors)\n",
    "glove_vocab = set(torchtext.vocab.GloVe(name='6B', dim=100).stoi.keys())\n",
    "\n",
    "oov_words_by_topic = defaultdict(Counter)\n",
    "\n",
    "for example in train_data.examples:\n",
    "    label = example.label\n",
    "    tokens = example.text  # Already tokenized as list of tokens by spacy\n",
    "    for token in tokens:\n",
    "        # Lowercase token to match GloVe casing\n",
    "        token_lower = token.lower()\n",
    "        if token_lower not in glove_vocab:\n",
    "            oov_words_by_topic[label][token_lower] += 1\n",
    "\n",
    "total_oov_words = set()\n",
    "for counter in oov_words_by_topic.values():\n",
    "    total_oov_words.update(counter.keys())\n",
    "\n",
    "total_count = sum(\n",
    "    count\n",
    "    for counter in oov_words_by_topic.values()\n",
    "    for count in counter.values()\n",
    ")\n",
    "print(f\"Total count of all OOV word occurrences: {total_count}\")\n",
    "print(f\"Total number of OOV words in training data: {len(total_oov_words)}\")\n",
    "print(\"Number of OOV words per topic category:\")\n",
    "\n",
    "for topic, counter in oov_words_by_topic.items():\n",
    "    print(f\"Topic {topic}: {len(counter)} unique OOV words\")\n",
    "    print(\"Total occurrence of OOV words: \", sum(counter.values()))\n",
    "    print(\"-\"*50)"
   ]
  },
  {
   "cell_type": "code",
   "execution_count": 7,
   "id": "2d249cdb",
   "metadata": {},
   "outputs": [],
   "source": [
    "def replace_oov_with_unk(tokens, glove_vocab):\n",
    "    return [token if token.lower() in glove_vocab else '<unk>' for token in tokens]\n",
    "\n",
    "for example in train_data.examples:\n",
    "    tokens = example.text\n",
    "    example.text = replace_oov_with_unk(tokens, glove_vocab)"
   ]
  },
  {
   "cell_type": "code",
   "execution_count": 8,
   "id": "1234c2bf",
   "metadata": {},
   "outputs": [
    {
     "data": {
      "text/plain": [
       "202"
      ]
     },
     "execution_count": 8,
     "metadata": {},
     "output_type": "execute_result"
    }
   ],
   "source": [
    "unk_count = 0\n",
    "for example in train_data.examples:\n",
    "    label = example.label\n",
    "    tokens = example.text\n",
    "    for token in tokens:\n",
    "        # Lowercase token to match GloVe casing\n",
    "        token_lower = token.lower()\n",
    "        if token_lower == \"<unk>\":\n",
    "            unk_count += 1\n",
    "unk_count"
   ]
  },
  {
   "cell_type": "markdown",
   "id": "72c5258b",
   "metadata": {},
   "source": [
    "## Codes Required from Q2"
   ]
  },
  {
   "cell_type": "code",
   "execution_count": 9,
   "id": "41880adb",
   "metadata": {},
   "outputs": [],
   "source": [
    "# Define Dataset Class for Qn 2 - Make them learnable parameters\n",
    "class SentenceDataset(Dataset):\n",
    "    def __init__(self, text, label, vocab):\n",
    "        self.text = text\n",
    "        self.label = label\n",
    "        self.vocab = vocab\n",
    "\n",
    "    def __len__(self):\n",
    "        return len(self.label)\n",
    "    \n",
    "    def __getitem__(self, idx):\n",
    "        tokens = self.text[idx].split()\n",
    "        label = self.label[idx]\n",
    "        indices = [self.vocab[token] if token in self.vocab else self.vocab['<unk>'] for token in tokens]\n",
    "\n",
    "        return torch.tensor(indices, dtype=torch.long), torch.tensor(label, dtype=torch.long)\n",
    "\n",
    "def collate_fn(batch):\n",
    "    texts, labels = zip(*batch)\n",
    "    texts_padded = pad_sequence(texts, batch_first=True, padding_value=TEXT.vocab.stoi['<pad>'])\n",
    "    labels = torch.stack(labels)\n",
    "    return texts_padded, labels"
   ]
  },
  {
   "cell_type": "code",
   "execution_count": 10,
   "id": "865ec284",
   "metadata": {},
   "outputs": [
    {
     "name": "stdout",
     "output_type": "stream",
     "text": [
      "4362\n",
      "4362\n"
     ]
    }
   ],
   "source": [
    "# Create train, valid, test texts and labels \n",
    "train_texts = [\" \".join(example.text) for example in train_data.examples]\n",
    "train_labels = [LABEL.vocab.stoi[example.label] for example in train_data.examples]\n",
    "\n",
    "valid_texts = [\" \".join(example.text) for example in valid_data.examples]\n",
    "valid_labels = [LABEL.vocab.stoi[example.label] for example in valid_data.examples]\n",
    "\n",
    "test_texts = [\" \".join(example.text) for example in test_data.examples]\n",
    "test_labels = [LABEL.vocab.stoi[example.label] for example in test_data.examples]\n",
    "\n",
    "# Create Dataset instances\n",
    "train_dataset = SentenceDataset(train_texts, train_labels, TEXT.vocab.stoi)\n",
    "valid_dataset = SentenceDataset(valid_texts, valid_labels, TEXT.vocab.stoi)\n",
    "test_dataset = SentenceDataset(test_texts, test_labels, TEXT.vocab.stoi)\n",
    "\n",
    "# Check length of train dataset and train data\n",
    "print(len(train_dataset))\n",
    "print(len(train_data))"
   ]
  },
  {
   "cell_type": "code",
   "execution_count": 12,
   "id": "c6a22059",
   "metadata": {},
   "outputs": [],
   "source": [
    "# Define the RNN Classifier, here we do only a single hidden layer to keep it small and simple\n",
    "# We take input word embeddings, pass through RNN, apply dropout, and then a fully connected layer to get logits for 6 classes (as per qn requirement)\n",
    "class ClassifierRNN(nn.Module):\n",
    "    def __init__(self, embedding_matrix, hidden_dim, dropout=0.0):\n",
    "        super(ClassifierRNN, self).__init__()\n",
    "        num_embeddings, embedding_dim = embedding_matrix.shape\n",
    "        self.embedding = nn.Embedding.from_pretrained(torch.tensor(embedding_matrix, dtype=torch.float), freeze=False)\n",
    "        self.rnn = nn.RNN(embedding_dim, hidden_dim, batch_first=True)\n",
    "        self.dropout = nn.Dropout(dropout)\n",
    "        self.fc = nn.Linear(hidden_dim, 6) # since 6 possible labels\n",
    "\n",
    "    def forward(self, x):\n",
    "        embedded = self.embedding(x)\n",
    "        output, hidden = self.rnn(embedded)\n",
    "        hidden = self.dropout(hidden[-1]) # Default is to take last layer's hidden state\n",
    "        out = self.fc(hidden)\n",
    "        return out"
   ]
  },
  {
   "cell_type": "code",
   "execution_count": 13,
   "id": "7d9f1830",
   "metadata": {},
   "outputs": [],
   "source": [
    "# Define training, evaluation, and testing loops\n",
    "def train_loop(model, loader, optimizer, criterion, grad_clip=False, max_norm=1.0):\n",
    "    model.train()\n",
    "    total_loss, total_correct = 0, 0\n",
    "    for texts, labels in loader:\n",
    "        optimizer.zero_grad()\n",
    "        outputs = model(texts)\n",
    "        loss = criterion(outputs, labels)\n",
    "        loss.backward()\n",
    "\n",
    "        if grad_clip:\n",
    "            clip_grad_norm_(model.parameters(), max_norm=max_norm)\n",
    "\n",
    "        optimizer.step()\n",
    "        total_loss += loss.item()\n",
    "        total_correct += (outputs.argmax(1) == labels).sum().item()\n",
    "\n",
    "    avg_loss = total_loss / len(loader)\n",
    "    avg_correct = total_correct / len(loader.dataset)\n",
    "    return avg_loss, avg_correct\n",
    "\n",
    "def eval_loop(model, loader, criterion):\n",
    "    model.eval()\n",
    "    total_loss, total_correct = 0, 0\n",
    "\n",
    "    with torch.no_grad():\n",
    "        for texts, labels in loader:\n",
    "            outputs = model(texts)\n",
    "            loss = criterion(outputs, labels)\n",
    "            total_loss += loss.item()\n",
    "            total_correct += (outputs.argmax(1) == labels).sum().item()\n",
    "\n",
    "    avg_loss = total_loss / len(loader)\n",
    "    avg_correct = total_correct / len(loader.dataset)\n",
    "    return avg_loss, avg_correct\n",
    "    \n",
    "def test_loop(model, loader):\n",
    "    model.eval()\n",
    "    total_correct = 0\n",
    "\n",
    "    with torch.no_grad():\n",
    "        for texts, labels in loader:\n",
    "            outputs = model(texts)\n",
    "            total_correct += (outputs.argmax(1) == labels).sum().item()\n",
    "    \n",
    "    acc = total_correct / len(loader.dataset)\n",
    "    return acc\n",
    "\n",
    "# Early stopper to prevent overfitting as default to determine a suitable num_epochs, \n",
    "# here we use val_acc as the metrics as recommended metrics for training (as per qn requirements)\n",
    "class EarlyStopper:\n",
    "    def __init__(self, patience=3, min_delta=0):\n",
    "        self.patience = patience\n",
    "        self.min_delta = min_delta\n",
    "        self.counter = 0\n",
    "        self.max_validation_acc = float('-inf')\n",
    "\n",
    "    def early_stop(self, validation_acc):\n",
    "        if validation_acc > self.max_validation_acc + self.min_delta:\n",
    "            self.max_validation_acc = validation_acc\n",
    "            self.counter = 0\n",
    "        else:\n",
    "            self.counter += 1\n",
    "            return self.counter >= self.patience"
   ]
  },
  {
   "cell_type": "code",
   "execution_count": 14,
   "id": "e11c5ce9",
   "metadata": {},
   "outputs": [],
   "source": [
    "# Function to capture metrics and print training results per epoch\n",
    "def training_step(model, train_loader, valid_loader, optimizer, criterion, num_epochs, grad_clip=False, max_norm=1.0):\n",
    "    train_losses, train_accuracies = [], []\n",
    "    valid_losses, valid_accuracies = [], []\n",
    "    early_stopper = EarlyStopper(patience=5, min_delta=0)\n",
    "\n",
    "    for epoch in range(num_epochs):\n",
    "        train_loss, train_acc = train_loop(model, train_loader, optimizer, criterion, grad_clip=grad_clip, max_norm=max_norm)\n",
    "        valid_loss, valid_acc = eval_loop(model, valid_loader, criterion)\n",
    "\n",
    "        train_losses.append(train_loss)\n",
    "        train_accuracies.append(train_acc)\n",
    "        valid_losses.append(valid_loss)\n",
    "        valid_accuracies.append(valid_acc)\n",
    "\n",
    "        print(f\"Epoch {epoch+1}:\")\n",
    "        print(f\"Train loss: {train_loss:.4f}, Train acc: {train_acc:.4f}\")\n",
    "        print(f\"Valid loss: {valid_loss:.4f}, Valid acc: {valid_acc:.4f}\")\n",
    "\n",
    "        if early_stopper.early_stop(valid_acc):\n",
    "            print(\"Early Stopping Triggered! No Improvements to Validation Accuracy within Patience.\")\n",
    "            no_epochs = epoch+1\n",
    "            break\n",
    "\n",
    "        no_epochs = epoch+1\n",
    "\n",
    "    return train_losses, train_accuracies, valid_losses, valid_accuracies, no_epochs"
   ]
  },
  {
   "cell_type": "markdown",
   "id": "38c706de",
   "metadata": {},
   "source": [
    "### Answer (a):\n",
    "Final Configuration of Best Model:\n",
    "Number of training epochs = 42 \\\n",
    "Learning rate = 0.0001 \\\n",
    "Optimizer = Adam \\\n",
    "Batch Size = 32 \\\n",
    "Hidden dimension = 256\\\n",
    "Best validation accuracy based on optimal parameters: 0.7936"
   ]
  },
  {
   "cell_type": "markdown",
   "id": "e1aab182",
   "metadata": {},
   "source": [
    "## Q3. Enhancement "
   ]
  },
  {
   "cell_type": "markdown",
   "id": "4cb5b542",
   "metadata": {},
   "source": [
    "This section implements a CNN to produce sentence representations and perform topic classification. "
   ]
  },
  {
   "cell_type": "code",
   "execution_count": 25,
   "id": "1d836f21",
   "metadata": {},
   "outputs": [],
   "source": [
    "# Define the CNN Classifier for sentence representation and topic classification\n",
    "# We use multiple filter sizes to capture different n-gram patterns, then apply max pooling and dropout\n",
    "class ClassifierCNN(nn.Module):\n",
    "    def __init__(self, embedding_matrix, num_filters=100, filter_sizes=[3, 4, 5], dropout=0.0):\n",
    "        super(ClassifierCNN, self).__init__()\n",
    "        num_embeddings, embedding_dim = embedding_matrix.shape\n",
    "        self.embedding = nn.Embedding.from_pretrained(torch.tensor(embedding_matrix, dtype=torch.float), freeze=False)\n",
    "        \n",
    "        # Multiple convolutional layers with different filter sizes to capture n-grams\n",
    "        self.convs = nn.ModuleList([\n",
    "            nn.Conv1d(embedding_dim, num_filters, kernel_size=fs)\n",
    "            for fs in filter_sizes\n",
    "        ])\n",
    "        \n",
    "        self.dropout = nn.Dropout(dropout)\n",
    "        # Fully connected layer: num_filters * len(filter_sizes) because we concatenate all conv outputs\n",
    "        self.fc = nn.Linear(num_filters * len(filter_sizes), 6)  # 6 possible labels\n",
    "\n",
    "    def forward(self, x):\n",
    "        # x shape: (batch_size, seq_len)\n",
    "        embedded = self.embedding(x)  # (batch_size, seq_len, embedding_dim)\n",
    "        \n",
    "        # Conv1d expects input of shape (batch_size, embedding_dim, seq_len)\n",
    "        embedded = embedded.permute(0, 2, 1)  # (batch_size, embedding_dim, seq_len)\n",
    "        \n",
    "        # Apply convolutions and max pooling\n",
    "        conv_outputs = []\n",
    "        for conv in self.convs:\n",
    "            conv_out = torch.relu(conv(embedded))  # (batch_size, num_filters, conv_seq_len)\n",
    "            pooled = torch.max_pool1d(conv_out, kernel_size=conv_out.size(2))  # (batch_size, num_filters, 1)\n",
    "            conv_outputs.append(pooled.squeeze(2))  # (batch_size, num_filters)\n",
    "        \n",
    "        # Concatenate all conv outputs\n",
    "        concatenated = torch.cat(conv_outputs, dim=1)  # (batch_size, num_filters * len(filter_sizes))\n",
    "        \n",
    "        # Apply dropout and final classification\n",
    "        dropped = self.dropout(concatenated)\n",
    "        out = self.fc(dropped)\n",
    "        return out\n",
    "\n"
   ]
  },
  {
   "cell_type": "code",
   "execution_count": 27,
   "id": "97a59945",
   "metadata": {},
   "outputs": [
    {
     "name": "stderr",
     "output_type": "stream",
     "text": [
      "/var/folders/bw/_dd4c0bn1ws10nbrwf6ls6hc0000gn/T/ipykernel_4574/43816942.py:7: UserWarning: To copy construct from a tensor, it is recommended to use sourceTensor.detach().clone() or sourceTensor.detach().clone().requires_grad_(True), rather than torch.tensor(sourceTensor).\n",
      "  self.embedding = nn.Embedding.from_pretrained(torch.tensor(embedding_matrix, dtype=torch.float), freeze=False)\n"
     ]
    },
    {
     "name": "stdout",
     "output_type": "stream",
     "text": [
      "Epoch 1:\n",
      "Train loss: 1.6399, Train acc: 0.2772\n",
      "Valid loss: 1.5572, Valid acc: 0.3954\n",
      "Epoch 2:\n",
      "Train loss: 1.5169, Train acc: 0.3806\n",
      "Valid loss: 1.4699, Valid acc: 0.4624\n",
      "Epoch 3:\n",
      "Train loss: 1.4156, Train acc: 0.4663\n",
      "Valid loss: 1.3956, Valid acc: 0.5165\n",
      "Epoch 4:\n",
      "Train loss: 1.3190, Train acc: 0.5298\n",
      "Valid loss: 1.3195, Valid acc: 0.5495\n",
      "Epoch 5:\n",
      "Train loss: 1.2300, Train acc: 0.5782\n",
      "Valid loss: 1.2383, Valid acc: 0.5890\n",
      "Epoch 6:\n",
      "Train loss: 1.1495, Train acc: 0.6080\n",
      "Valid loss: 1.1647, Valid acc: 0.6046\n",
      "Epoch 7:\n",
      "Train loss: 1.0709, Train acc: 0.6373\n",
      "Valid loss: 1.0996, Valid acc: 0.6248\n",
      "Epoch 8:\n",
      "Train loss: 0.9899, Train acc: 0.6614\n",
      "Valid loss: 1.0289, Valid acc: 0.6495\n",
      "Epoch 9:\n",
      "Train loss: 0.9189, Train acc: 0.6933\n",
      "Valid loss: 0.9664, Valid acc: 0.6734\n",
      "Epoch 10:\n",
      "Train loss: 0.8457, Train acc: 0.7290\n",
      "Valid loss: 0.9019, Valid acc: 0.6991\n",
      "Epoch 11:\n",
      "Train loss: 0.7774, Train acc: 0.7451\n",
      "Valid loss: 0.8520, Valid acc: 0.7037\n",
      "Epoch 12:\n",
      "Train loss: 0.7202, Train acc: 0.7669\n",
      "Valid loss: 0.7948, Valid acc: 0.7312\n",
      "Epoch 13:\n",
      "Train loss: 0.6528, Train acc: 0.7923\n",
      "Valid loss: 0.7413, Valid acc: 0.7514\n",
      "Epoch 14:\n",
      "Train loss: 0.5978, Train acc: 0.8152\n",
      "Valid loss: 0.6911, Valid acc: 0.7789\n",
      "Epoch 15:\n",
      "Train loss: 0.5536, Train acc: 0.8299\n",
      "Valid loss: 0.6544, Valid acc: 0.7881\n",
      "Epoch 16:\n",
      "Train loss: 0.5065, Train acc: 0.8473\n",
      "Valid loss: 0.6166, Valid acc: 0.8009\n",
      "Epoch 17:\n",
      "Train loss: 0.4707, Train acc: 0.8636\n",
      "Valid loss: 0.5848, Valid acc: 0.8092\n",
      "Epoch 18:\n",
      "Train loss: 0.4310, Train acc: 0.8751\n",
      "Valid loss: 0.5544, Valid acc: 0.8211\n",
      "Epoch 19:\n",
      "Train loss: 0.4059, Train acc: 0.8801\n",
      "Valid loss: 0.5347, Valid acc: 0.8202\n",
      "Epoch 20:\n",
      "Train loss: 0.3718, Train acc: 0.8932\n",
      "Valid loss: 0.5122, Valid acc: 0.8248\n",
      "Epoch 21:\n",
      "Train loss: 0.3552, Train acc: 0.8971\n",
      "Valid loss: 0.4989, Valid acc: 0.8330\n",
      "Epoch 22:\n",
      "Train loss: 0.3256, Train acc: 0.9124\n",
      "Valid loss: 0.4801, Valid acc: 0.8404\n",
      "Epoch 23:\n",
      "Train loss: 0.3054, Train acc: 0.9104\n",
      "Valid loss: 0.4661, Valid acc: 0.8450\n",
      "Epoch 24:\n",
      "Train loss: 0.2812, Train acc: 0.9232\n",
      "Valid loss: 0.4514, Valid acc: 0.8486\n",
      "Epoch 25:\n",
      "Train loss: 0.2578, Train acc: 0.9342\n",
      "Valid loss: 0.4437, Valid acc: 0.8422\n",
      "Epoch 26:\n",
      "Train loss: 0.2489, Train acc: 0.9349\n",
      "Valid loss: 0.4339, Valid acc: 0.8422\n",
      "Epoch 27:\n",
      "Train loss: 0.2353, Train acc: 0.9335\n",
      "Valid loss: 0.4233, Valid acc: 0.8450\n",
      "Epoch 28:\n",
      "Train loss: 0.2183, Train acc: 0.9409\n",
      "Valid loss: 0.4211, Valid acc: 0.8440\n",
      "Epoch 29:\n",
      "Train loss: 0.2051, Train acc: 0.9457\n",
      "Valid loss: 0.4098, Valid acc: 0.8523\n",
      "Epoch 30:\n",
      "Train loss: 0.1884, Train acc: 0.9541\n",
      "Valid loss: 0.4030, Valid acc: 0.8541\n",
      "Epoch 31:\n",
      "Train loss: 0.1799, Train acc: 0.9567\n",
      "Valid loss: 0.3965, Valid acc: 0.8523\n",
      "Epoch 32:\n",
      "Train loss: 0.1639, Train acc: 0.9606\n",
      "Valid loss: 0.3962, Valid acc: 0.8550\n",
      "Epoch 33:\n",
      "Train loss: 0.1565, Train acc: 0.9599\n",
      "Valid loss: 0.3893, Valid acc: 0.8606\n",
      "Epoch 34:\n",
      "Train loss: 0.1524, Train acc: 0.9626\n",
      "Valid loss: 0.3886, Valid acc: 0.8569\n",
      "Epoch 35:\n",
      "Train loss: 0.1396, Train acc: 0.9686\n",
      "Valid loss: 0.3809, Valid acc: 0.8578\n",
      "Epoch 36:\n",
      "Train loss: 0.1341, Train acc: 0.9688\n",
      "Valid loss: 0.3754, Valid acc: 0.8624\n",
      "Epoch 37:\n",
      "Train loss: 0.1199, Train acc: 0.9729\n",
      "Valid loss: 0.3723, Valid acc: 0.8642\n",
      "Epoch 38:\n",
      "Train loss: 0.1159, Train acc: 0.9729\n",
      "Valid loss: 0.3710, Valid acc: 0.8624\n",
      "Epoch 39:\n",
      "Train loss: 0.1086, Train acc: 0.9752\n",
      "Valid loss: 0.3677, Valid acc: 0.8688\n",
      "Epoch 40:\n",
      "Train loss: 0.1044, Train acc: 0.9768\n",
      "Valid loss: 0.3662, Valid acc: 0.8642\n",
      "Epoch 41:\n",
      "Train loss: 0.0931, Train acc: 0.9801\n",
      "Valid loss: 0.3655, Valid acc: 0.8670\n",
      "Epoch 42:\n",
      "Train loss: 0.0929, Train acc: 0.9801\n",
      "Valid loss: 0.3630, Valid acc: 0.8679\n",
      "Epoch 43:\n",
      "Train loss: 0.0826, Train acc: 0.9828\n",
      "Valid loss: 0.3600, Valid acc: 0.8679\n",
      "Epoch 44:\n",
      "Train loss: 0.0775, Train acc: 0.9853\n",
      "Valid loss: 0.3622, Valid acc: 0.8688\n",
      "Early Stopping Triggered! No Improvements to Validation Accuracy within Patience.\n"
     ]
    }
   ],
   "source": [
    "cnn_model = ClassifierCNN(\n",
    "    embedding_matrix=TEXT.vocab.vectors,\n",
    "    num_filters=100,\n",
    "    filter_sizes=[3,4,5],\n",
    "    dropout=0.5\n",
    ")\n",
    "\n",
    "optimizer = torch.optim.Adam(cnn_model.parameters(), lr=0.0001)\n",
    "criterion = nn.CrossEntropyLoss()\n",
    "\n",
    "train_loader = DataLoader(train_dataset, batch_size=batch_size, shuffle=True, collate_fn=collate_fn)\n",
    "valid_loader = DataLoader(valid_dataset, batch_size=batch_size, shuffle=False, collate_fn=collate_fn)\n",
    "\n",
    "train_losses, train_accuracies, valid_losses, valid_accuracies, no_epochs = training_step(\n",
    "    cnn_model,\n",
    "    train_loader,\n",
    "    valid_loader,\n",
    "    optimizer,\n",
    "    criterion,\n",
    "    num_epochs=50\n",
    ")\n",
    "\n"
   ]
  },
  {
   "cell_type": "code",
   "execution_count": 28,
   "id": "19606aaf",
   "metadata": {},
   "outputs": [
    {
     "name": "stdout",
     "output_type": "stream",
     "text": [
      "Final Test Accuracy (CNN): 0.9080\n"
     ]
    }
   ],
   "source": [
    "test_loader = DataLoader(test_dataset, batch_size=batch_size, shuffle=False, collate_fn=collate_fn)\n",
    "test_acc = test_loop(cnn_model, test_loader)\n",
    "print(f\"Final Test Accuracy (CNN): {test_acc:.4f}\")"
   ]
  },
  {
   "cell_type": "code",
   "execution_count": 30,
   "id": "89e32b69",
   "metadata": {},
   "outputs": [
    {
     "data": {
      "image/png": "[encoded data removed]",
      "text/plain": [
       "<Figure size 1400x600 with 2 Axes>"
      ]
     },
     "metadata": {},
     "output_type": "display_data"
    }
   ],
   "source": [
    "import matplotlib.pyplot as plt\n",
    "\n",
    "epochs = range(1, len(train_losses) + 1)\n",
    "\n",
    "plt.figure(figsize=(14, 6))\n",
    "\n",
    "# ---- Left: Loss vs Epochs ----\n",
    "plt.subplot(1, 2, 1)\n",
    "plt.plot(epochs, train_losses, label='Train Loss')\n",
    "plt.plot(epochs, valid_losses, label='Val Loss')\n",
    "plt.xlabel('Epochs')\n",
    "plt.ylabel('Loss')\n",
    "plt.title('Loss vs Epochs')\n",
    "plt.legend()\n",
    "\n",
    "# ---- Right: Accuracy vs Epochs ----\n",
    "plt.subplot(1, 2, 2)\n",
    "plt.plot(epochs, train_accuracies, label='Train Accuracy')\n",
    "plt.plot(epochs, valid_accuracies, label='Val Accuracy')\n",
    "plt.xlabel('Epochs')\n",
    "plt.ylabel('Accuracy')\n",
    "plt.title('Accuracy vs Epochs')\n",
    "plt.legend()\n",
    "\n",
    "plt.tight_layout()\n",
    "plt.show()\n"
   ]
  },
  {
   "cell_type": "markdown",
   "id": "8fa15e1f",
   "metadata": {},
   "source": [
    "Hyperparameters of CNN: \n",
    "1. Learning Rate\n",
    "2. Optimisers\n",
    "3. Batch Size\n",
    "4. Number of Filters\n"
   ]
  }
 ],
 "metadata": {
  "kernelspec": {
   "display_name": "sc4002-nlp",
   "language": "python",
   "name": "python3"
  },
  "language_info": {
   "codemirror_mode": {
    "name": "ipython",
    "version": 3
   },
   "file_extension": ".py",
   "mimetype": "text/x-python",
   "name": "python",
   "nbconvert_exporter": "python",
   "pygments_lexer": "ipython3",
   "version": "3.12.6"
  }
 },
 "nbformat": 4,
 "nbformat_minor": 5
}
